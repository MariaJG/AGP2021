{
  "nbformat": 4,
  "nbformat_minor": 0,
  "metadata": {
    "colab": {
      "name": "Gershgorin_circle_theorem.ipynb",
      "provenance": [],
      "collapsed_sections": [],
      "include_colab_link": true
    },
    "kernelspec": {
      "name": "python3",
      "display_name": "Python 3"
    },
    "language_info": {
      "name": "python"
    }
  },
  "cells": [
    {
      "cell_type": "markdown",
      "metadata": {
        "id": "view-in-github",
        "colab_type": "text"
      },
      "source": [
        "<a href=\"https://colab.research.google.com/github/MariaJG/AGP2021/blob/main/Gershgorin_circle_theorem.ipynb\" target=\"_parent\"><img src=\"https://colab.research.google.com/assets/colab-badge.svg\" alt=\"Open In Colab\"/></a>"
      ]
    },
    {
      "cell_type": "code",
      "metadata": {
        "id": "33PY7U-8Ys4r"
      },
      "source": [
        "import numpy as np\n",
        "import sympy as sym"
      ],
      "execution_count": null,
      "outputs": []
    },
    {
      "cell_type": "code",
      "metadata": {
        "colab": {
          "base_uri": "https://localhost:8080/"
        },
        "id": "_jzNepy1PQ-e",
        "outputId": "69901848-c7e0-44fd-f543-312654039480"
      },
      "source": [
        "# Tomamos una matriz\n",
        "AA = np.random.randint(-5, 6, (3, 3)) + np.random.randint(-5, 6, (3, 3)) * 1j\n",
        "AA"
      ],
      "execution_count": null,
      "outputs": [
        {
          "output_type": "execute_result",
          "data": {
            "text/plain": [
              "array([[ 0.+5.j,  1.+3.j, -2.-5.j],\n",
              "       [ 5.+5.j, -3.-2.j, -4.-5.j],\n",
              "       [ 0.-5.j,  4.+3.j,  2.+2.j]])"
            ]
          },
          "metadata": {
            "tags": []
          },
          "execution_count": 2
        }
      ]
    },
    {
      "cell_type": "code",
      "metadata": {
        "id": "wo6sU1csUvUA"
      },
      "source": [
        "def circle_theorem(M):\n",
        "    x = sym.Symbol('x') \n",
        "    y = sym.Symbol('y')\n",
        "\n",
        "    circles = set()\n",
        "    for i in range(M.shape[0]):\n",
        "        # Selecionamos la fila i con i corriendo\n",
        "        row = M[i: i + 1, :]\n",
        "        row = np.delete(row, i)\n",
        "        radio = np.absolute(row)\n",
        "        radio = np.sum(radio)\n",
        "        circles.add(sym.ConditionSet((x,y), sym.simplify((x - np.real(M[i,i]))**2 + (y - np.imag(M[i,i]))**2) <= radio))\n",
        "    return sym.Union(*(e for e in circles))\n"
      ],
      "execution_count": null,
      "outputs": []
    },
    {
      "cell_type": "code",
      "metadata": {
        "colab": {
          "base_uri": "https://localhost:8080/"
        },
        "id": "pBpMreOAY_Fg",
        "outputId": "7041f8de-e4ae-434d-e0f4-caa1132c9be8"
      },
      "source": [
        "from sympy import * \n",
        "\n",
        "from sympy import Matrix\n",
        "import sympy as sym\n",
        "\n",
        "sym.Matrix"
      ],
      "execution_count": null,
      "outputs": [
        {
          "output_type": "execute_result",
          "data": {
            "text/plain": [
              "sympy.matrices.dense.MutableDenseMatrix"
            ]
          },
          "metadata": {
            "tags": []
          },
          "execution_count": 12
        }
      ]
    },
    {
      "cell_type": "code",
      "metadata": {
        "colab": {
          "base_uri": "https://localhost:8080/",
          "height": 109
        },
        "id": "x_BICSjPVkE9",
        "outputId": "a093a2f2-78b5-4e56-bb61-5f8ec743fe5e"
      },
      "source": [
        "DD = circle_theorem(AA)\n",
        "DD"
      ],
      "execution_count": null,
      "outputs": [
        {
          "output_type": "execute_result",
          "data": {
            "text/latex": "$\\displaystyle \\left\\{\\left( x, \\  y\\right) \\mid x^{2} + 25.0 \\left(0.2 y - 1\\right)^{2} \\leq 8.54744246730288 \\right\\} \\cup \\left\\{\\left( x, \\  y\\right) \\mid 9.0 \\left(0.333333333333333 x + 1\\right)^{2} + 4.0 \\left(0.5 y + 1\\right)^{2} \\leq 13.4741920492983 \\right\\} \\cup \\left\\{\\left( x, \\  y\\right) \\mid 4.0 \\left(0.5 x - 1\\right)^{2} + 4.0 \\left(0.5 y - 1\\right)^{2} \\leq 10.0 \\right\\}$",
            "text/plain": [
              "Union(ConditionSet((x, y), x**2 + 25.0*(0.2*y - 1)**2 <= 8.54744246730288), ConditionSet((x, y), 9.0*(0.333333333333333*x + 1)**2 + 4.0*(0.5*y + 1)**2 <= 13.4741920492983), ConditionSet((x, y), 4.0*(0.5*x - 1)**2 + 4.0*(0.5*y - 1)**2 <= 10.0))"
            ]
          },
          "metadata": {
            "tags": []
          },
          "execution_count": 4
        }
      ]
    },
    {
      "cell_type": "code",
      "metadata": {
        "colab": {
          "base_uri": "https://localhost:8080/"
        },
        "id": "G8jn8Q_vvq12",
        "outputId": "24bcaf22-81ea-4133-c2c6-65ef1db2d678"
      },
      "source": [
        "(0,0) in DD"
      ],
      "execution_count": null,
      "outputs": [
        {
          "output_type": "execute_result",
          "data": {
            "text/plain": [
              "True"
            ]
          },
          "metadata": {
            "tags": []
          },
          "execution_count": 5
        }
      ]
    },
    {
      "cell_type": "code",
      "metadata": {
        "colab": {
          "base_uri": "https://localhost:8080/"
        },
        "id": "_yWM_af8wd6P",
        "outputId": "afce2d45-de1b-41d5-b033-a203544e9fd5"
      },
      "source": [
        "(1,1) in DD"
      ],
      "execution_count": null,
      "outputs": [
        {
          "output_type": "execute_result",
          "data": {
            "text/plain": [
              "True"
            ]
          },
          "metadata": {
            "tags": []
          },
          "execution_count": 10
        }
      ]
    },
    {
      "cell_type": "code",
      "metadata": {
        "colab": {
          "base_uri": "https://localhost:8080/"
        },
        "id": "53o_k27Qv4cL",
        "outputId": "1d97a1ab-b6c8-4e5b-baaa-a18de96bedf6"
      },
      "source": [
        "(4,1) in DD"
      ],
      "execution_count": null,
      "outputs": [
        {
          "output_type": "execute_result",
          "data": {
            "text/plain": [
              "True"
            ]
          },
          "metadata": {
            "tags": []
          },
          "execution_count": 7
        }
      ]
    },
    {
      "cell_type": "code",
      "metadata": {
        "colab": {
          "base_uri": "https://localhost:8080/"
        },
        "id": "Tn3n4mwSwoVs",
        "outputId": "75d00006-7096-4217-d406-65b81bdae0b7"
      },
      "source": [
        "(-4,4) in DD"
      ],
      "execution_count": null,
      "outputs": [
        {
          "output_type": "execute_result",
          "data": {
            "text/plain": [
              "False"
            ]
          },
          "metadata": {
            "tags": []
          },
          "execution_count": 8
        }
      ]
    }
  ]
}