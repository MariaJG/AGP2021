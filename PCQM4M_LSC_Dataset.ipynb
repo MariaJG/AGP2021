{
  "nbformat": 4,
  "nbformat_minor": 0,
  "metadata": {
    "colab": {
      "name": " PCQM4M-LSC Dataset.ipynb",
      "provenance": [],
      "collapsed_sections": [],
      "toc_visible": true,
      "include_colab_link": true
    },
    "kernelspec": {
      "name": "python3",
      "display_name": "Python 3"
    },
    "language_info": {
      "name": "python"
    }
  },
  "cells": [
    {
      "cell_type": "markdown",
      "metadata": {
        "id": "view-in-github",
        "colab_type": "text"
      },
      "source": [
        "<a href=\"https://colab.research.google.com/github/MariaJG/AGP2021/blob/main/PCQM4M_LSC_Dataset.ipynb\" target=\"_parent\"><img src=\"https://colab.research.google.com/assets/colab-badge.svg\" alt=\"Open In Colab\"/></a>"
      ]
    },
    {
      "cell_type": "markdown",
      "metadata": {
        "id": "4fOxrLZfnVVO"
      },
      "source": [
        "# PCQM4M-LSC Dataset and Python package"
      ]
    },
    {
      "cell_type": "markdown",
      "metadata": {
        "id": "vOp2qSEgUFL5"
      },
      "source": [
        "# Download the PCQM4M-LSC dataset "
      ]
    },
    {
      "cell_type": "code",
      "metadata": {
        "colab": {
          "base_uri": "https://localhost:8080/"
        },
        "id": "1oLU6fKOsBOJ",
        "outputId": "050b69d5-f66c-4746-ee3c-f00f3b7dc350"
      },
      "source": [
        "!wget https://dgl-data.s3-accelerate.amazonaws.com/dataset/OGB-LSC/pcqm4m_kddcup2021.zip"
      ],
      "execution_count": null,
      "outputs": [
        {
          "output_type": "stream",
          "text": [
            "--2021-04-26 18:28:06--  https://dgl-data.s3-accelerate.amazonaws.com/dataset/OGB-LSC/pcqm4m_kddcup2021.zip\n",
            "Resolving dgl-data.s3-accelerate.amazonaws.com (dgl-data.s3-accelerate.amazonaws.com)... 52.222.139.131\n",
            "Connecting to dgl-data.s3-accelerate.amazonaws.com (dgl-data.s3-accelerate.amazonaws.com)|52.222.139.131|:443... connected.\n",
            "HTTP request sent, awaiting response... 200 OK\n",
            "Length: 60233696 (57M) [application/zip]\n",
            "Saving to: ‘pcqm4m_kddcup2021.zip’\n",
            "\n",
            "pcqm4m_kddcup2021.z 100%[===================>]  57.44M  22.7MB/s    in 2.5s    \n",
            "\n",
            "2021-04-26 18:28:09 (22.7 MB/s) - ‘pcqm4m_kddcup2021.zip’ saved [60233696/60233696]\n",
            "\n"
          ],
          "name": "stdout"
        }
      ]
    },
    {
      "cell_type": "markdown",
      "metadata": {
        "id": "YEEPHdRjUX0n"
      },
      "source": [
        "# Read the zip file downloaded in the previous step"
      ]
    },
    {
      "cell_type": "code",
      "metadata": {
        "id": "DwIsdmDnsDhh"
      },
      "source": [
        "import zipfile\n",
        "\n",
        "# Path\n",
        "zipfilename = \"/content/pcqm4m_kddcup2021.zip\"\n",
        "password = None\n",
        "\n",
        "# Open and extract all files in the zip\n",
        "z = zipfile.ZipFile(zipfilename, \"r\")\n",
        "try:\n",
        "    z.extractall(pwd=password)\n",
        "except:\n",
        "    print('Error')\n",
        "    pass\n",
        "z.close()"
      ],
      "execution_count": null,
      "outputs": []
    },
    {
      "cell_type": "markdown",
      "metadata": {
        "id": "RiXkIydDUuGp"
      },
      "source": [
        "# Decompress the zip file"
      ]
    },
    {
      "cell_type": "code",
      "metadata": {
        "id": "om75V70nsZtc"
      },
      "source": [
        "import gzip\n",
        "\n",
        "def write_file(filename, data):\n",
        "    \"\"\" This method creates a file with the data param give by the user \"\"\"\n",
        "    try:\n",
        "        f = open(filename, \"wb\")\n",
        "    except IOError as e:\n",
        "        print(e.errno, e.message)\n",
        "    else:\n",
        "        f.write(data)\n",
        "        f.close()\n",
        "\n",
        "def decompress(filename):\n",
        "    \"\"\" This method decompress a zip file \"\"\"\n",
        "    f = gzip.open(filename)\n",
        "    write_file(filename[:filename.rfind(\".gz\")], f.read())\n",
        "    f.close()\n",
        "\n",
        "# Decompress the pcqm4m_kddcup2021 file\n",
        "decompress(\"/content/pcqm4m_kddcup2021/raw/data.csv.gz\")"
      ],
      "execution_count": null,
      "outputs": []
    },
    {
      "cell_type": "markdown",
      "metadata": {
        "id": "qTNWXBEvVnP5"
      },
      "source": [
        "# Read the Database raw contain in the file /content/pcqm4m_kddcup2021/raw/data.csv "
      ]
    },
    {
      "cell_type": "code",
      "metadata": {
        "id": "0TYnKJRQtpmy"
      },
      "source": [
        "import pandas as pd \n",
        "_df = pd.read_csv(\"/content/pcqm4m_kddcup2021/raw/data.csv\")"
      ],
      "execution_count": null,
      "outputs": []
    },
    {
      "cell_type": "markdown",
      "metadata": {
        "id": "55OWj7_iV7bM"
      },
      "source": [
        "# Convert the database into a dataframe"
      ]
    },
    {
      "cell_type": "code",
      "metadata": {
        "colab": {
          "base_uri": "https://localhost:8080/",
          "height": 402
        },
        "id": "bpQFZ1h5t0Rj",
        "outputId": "1000c2a8-64f8-4bd7-fd54-655ce3ee8a34"
      },
      "source": [
        "_df"
      ],
      "execution_count": null,
      "outputs": [
        {
          "output_type": "execute_result",
          "data": {
            "text/html": [
              "<div>\n",
              "<style scoped>\n",
              "    .dataframe tbody tr th:only-of-type {\n",
              "        vertical-align: middle;\n",
              "    }\n",
              "\n",
              "    .dataframe tbody tr th {\n",
              "        vertical-align: top;\n",
              "    }\n",
              "\n",
              "    .dataframe thead th {\n",
              "        text-align: right;\n",
              "    }\n",
              "</style>\n",
              "<table border=\"1\" class=\"dataframe\">\n",
              "  <thead>\n",
              "    <tr style=\"text-align: right;\">\n",
              "      <th></th>\n",
              "      <th>idx</th>\n",
              "      <th>smiles</th>\n",
              "      <th>homolumogap</th>\n",
              "    </tr>\n",
              "  </thead>\n",
              "  <tbody>\n",
              "    <tr>\n",
              "      <th>0</th>\n",
              "      <td>0</td>\n",
              "      <td>Cc1ccc(cc1)C1C=c2cnccc2=NC1=O</td>\n",
              "      <td>3.047675</td>\n",
              "    </tr>\n",
              "    <tr>\n",
              "      <th>1</th>\n",
              "      <td>1</td>\n",
              "      <td>COc1cc(OC)ccc1C=CN(C(=O)C)C</td>\n",
              "      <td>4.410966</td>\n",
              "    </tr>\n",
              "    <tr>\n",
              "      <th>2</th>\n",
              "      <td>2</td>\n",
              "      <td>C=CCN(C(=O)C)C=Cc1ccccc1C</td>\n",
              "      <td>4.639541</td>\n",
              "    </tr>\n",
              "    <tr>\n",
              "      <th>3</th>\n",
              "      <td>3</td>\n",
              "      <td>C=CCN(C(=O)C)C=Cc1ccccc1F</td>\n",
              "      <td>4.492600</td>\n",
              "    </tr>\n",
              "    <tr>\n",
              "      <th>4</th>\n",
              "      <td>4</td>\n",
              "      <td>C=CCN(C(=O)C)C=Cc1ccccc1Cl</td>\n",
              "      <td>4.612330</td>\n",
              "    </tr>\n",
              "    <tr>\n",
              "      <th>...</th>\n",
              "      <td>...</td>\n",
              "      <td>...</td>\n",
              "      <td>...</td>\n",
              "    </tr>\n",
              "    <tr>\n",
              "      <th>3803448</th>\n",
              "      <td>3803448</td>\n",
              "      <td>O=N(=O)c1ccc(c(c1)N(=O)=O)Cl</td>\n",
              "      <td>NaN</td>\n",
              "    </tr>\n",
              "    <tr>\n",
              "      <th>3803449</th>\n",
              "      <td>3803449</td>\n",
              "      <td>NCC(=O)COP(=O)(O)O</td>\n",
              "      <td>NaN</td>\n",
              "    </tr>\n",
              "    <tr>\n",
              "      <th>3803450</th>\n",
              "      <td>3803450</td>\n",
              "      <td>CC(CN)O</td>\n",
              "      <td>NaN</td>\n",
              "    </tr>\n",
              "    <tr>\n",
              "      <th>3803451</th>\n",
              "      <td>3803451</td>\n",
              "      <td>OC1C=CC=C(C1O)C(=O)O</td>\n",
              "      <td>NaN</td>\n",
              "    </tr>\n",
              "    <tr>\n",
              "      <th>3803452</th>\n",
              "      <td>3803452</td>\n",
              "      <td>[O-]C(=O)CC(C[N+](C)(C)C)OC(=O)C</td>\n",
              "      <td>NaN</td>\n",
              "    </tr>\n",
              "  </tbody>\n",
              "</table>\n",
              "<p>3803453 rows × 3 columns</p>\n",
              "</div>"
            ],
            "text/plain": [
              "             idx                            smiles  homolumogap\n",
              "0              0     Cc1ccc(cc1)C1C=c2cnccc2=NC1=O     3.047675\n",
              "1              1       COc1cc(OC)ccc1C=CN(C(=O)C)C     4.410966\n",
              "2              2         C=CCN(C(=O)C)C=Cc1ccccc1C     4.639541\n",
              "3              3         C=CCN(C(=O)C)C=Cc1ccccc1F     4.492600\n",
              "4              4        C=CCN(C(=O)C)C=Cc1ccccc1Cl     4.612330\n",
              "...          ...                               ...          ...\n",
              "3803448  3803448      O=N(=O)c1ccc(c(c1)N(=O)=O)Cl          NaN\n",
              "3803449  3803449                NCC(=O)COP(=O)(O)O          NaN\n",
              "3803450  3803450                           CC(CN)O          NaN\n",
              "3803451  3803451              OC1C=CC=C(C1O)C(=O)O          NaN\n",
              "3803452  3803452  [O-]C(=O)CC(C[N+](C)(C)C)OC(=O)C          NaN\n",
              "\n",
              "[3803453 rows x 3 columns]"
            ]
          },
          "metadata": {
            "tags": []
          },
          "execution_count": 5
        }
      ]
    },
    {
      "cell_type": "markdown",
      "metadata": {
        "id": "K96VzXMteSNc"
      },
      "source": [
        "# These step is to make fast test with the dataframe"
      ]
    },
    {
      "cell_type": "code",
      "metadata": {
        "colab": {
          "base_uri": "https://localhost:8080/",
          "height": 402
        },
        "id": "1FoQ9LPbc4XZ",
        "outputId": "d54a85ea-8c61-4441-bccb-586bf75aa99e"
      },
      "source": [
        "df = _df.iloc[0:1000, 0:2]\n",
        "df"
      ],
      "execution_count": null,
      "outputs": [
        {
          "output_type": "execute_result",
          "data": {
            "text/html": [
              "<div>\n",
              "<style scoped>\n",
              "    .dataframe tbody tr th:only-of-type {\n",
              "        vertical-align: middle;\n",
              "    }\n",
              "\n",
              "    .dataframe tbody tr th {\n",
              "        vertical-align: top;\n",
              "    }\n",
              "\n",
              "    .dataframe thead th {\n",
              "        text-align: right;\n",
              "    }\n",
              "</style>\n",
              "<table border=\"1\" class=\"dataframe\">\n",
              "  <thead>\n",
              "    <tr style=\"text-align: right;\">\n",
              "      <th></th>\n",
              "      <th>idx</th>\n",
              "      <th>smiles</th>\n",
              "    </tr>\n",
              "  </thead>\n",
              "  <tbody>\n",
              "    <tr>\n",
              "      <th>0</th>\n",
              "      <td>0</td>\n",
              "      <td>Cc1ccc(cc1)C1C=c2cnccc2=NC1=O</td>\n",
              "    </tr>\n",
              "    <tr>\n",
              "      <th>1</th>\n",
              "      <td>1</td>\n",
              "      <td>COc1cc(OC)ccc1C=CN(C(=O)C)C</td>\n",
              "    </tr>\n",
              "    <tr>\n",
              "      <th>2</th>\n",
              "      <td>2</td>\n",
              "      <td>C=CCN(C(=O)C)C=Cc1ccccc1C</td>\n",
              "    </tr>\n",
              "    <tr>\n",
              "      <th>3</th>\n",
              "      <td>3</td>\n",
              "      <td>C=CCN(C(=O)C)C=Cc1ccccc1F</td>\n",
              "    </tr>\n",
              "    <tr>\n",
              "      <th>4</th>\n",
              "      <td>4</td>\n",
              "      <td>C=CCN(C(=O)C)C=Cc1ccccc1Cl</td>\n",
              "    </tr>\n",
              "    <tr>\n",
              "      <th>...</th>\n",
              "      <td>...</td>\n",
              "      <td>...</td>\n",
              "    </tr>\n",
              "    <tr>\n",
              "      <th>995</th>\n",
              "      <td>995</td>\n",
              "      <td>OC(c1ccccc1)C(=O)CC(C)C</td>\n",
              "    </tr>\n",
              "    <tr>\n",
              "      <th>996</th>\n",
              "      <td>996</td>\n",
              "      <td>OC(C(OC(C)(C)C)(C#N)C)c1ccccc1</td>\n",
              "    </tr>\n",
              "    <tr>\n",
              "      <th>997</th>\n",
              "      <td>997</td>\n",
              "      <td>CCOC(=O)C=CCOCC=C</td>\n",
              "    </tr>\n",
              "    <tr>\n",
              "      <th>998</th>\n",
              "      <td>998</td>\n",
              "      <td>N#CC=Cc1ccccc1[N+]#[C-]</td>\n",
              "    </tr>\n",
              "    <tr>\n",
              "      <th>999</th>\n",
              "      <td>999</td>\n",
              "      <td>[C-]#[N+]c1ccccc1C=CC(=O)C</td>\n",
              "    </tr>\n",
              "  </tbody>\n",
              "</table>\n",
              "<p>1000 rows × 2 columns</p>\n",
              "</div>"
            ],
            "text/plain": [
              "     idx                          smiles\n",
              "0      0   Cc1ccc(cc1)C1C=c2cnccc2=NC1=O\n",
              "1      1     COc1cc(OC)ccc1C=CN(C(=O)C)C\n",
              "2      2       C=CCN(C(=O)C)C=Cc1ccccc1C\n",
              "3      3       C=CCN(C(=O)C)C=Cc1ccccc1F\n",
              "4      4      C=CCN(C(=O)C)C=Cc1ccccc1Cl\n",
              "..   ...                             ...\n",
              "995  995         OC(c1ccccc1)C(=O)CC(C)C\n",
              "996  996  OC(C(OC(C)(C)C)(C#N)C)c1ccccc1\n",
              "997  997               CCOC(=O)C=CCOCC=C\n",
              "998  998         N#CC=Cc1ccccc1[N+]#[C-]\n",
              "999  999      [C-]#[N+]c1ccccc1C=CC(=O)C\n",
              "\n",
              "[1000 rows x 2 columns]"
            ]
          },
          "metadata": {
            "tags": []
          },
          "execution_count": 6
        }
      ]
    },
    {
      "cell_type": "markdown",
      "metadata": {
        "id": "fo30d9BMWKM5"
      },
      "source": [
        "# Install the smiles python reader "
      ]
    },
    {
      "cell_type": "code",
      "metadata": {
        "id": "Geb2Vou20IUf",
        "colab": {
          "base_uri": "https://localhost:8080/"
        },
        "outputId": "8f04d6ee-7cfb-400c-c02c-a25e8a4a18b9"
      },
      "source": [
        "# What is smiles? \n",
        "# https://stackoverflow.com/questions/57062757/how-to-generate-a-graph-from-a-smiles-molecule-representation\n",
        "\n",
        "!pip install pysmiles"
      ],
      "execution_count": null,
      "outputs": [
        {
          "output_type": "stream",
          "text": [
            "Collecting pysmiles\n",
            "  Downloading https://files.pythonhosted.org/packages/fb/c0/f80accbef999deefe9e3f92213b4791347356c6a69e15efdcee0f2ac22ae/pysmiles-1.0.1.tar.gz\n",
            "Collecting pbr\n",
            "  Using cached https://files.pythonhosted.org/packages/18/e0/1d4702dd81121d04a477c272d47ee5b6bc970d1a0990b11befa275c55cf2/pbr-5.6.0-py2.py3-none-any.whl\n",
            "Requirement already satisfied: networkx~=2.0 in /usr/local/lib/python3.7/dist-packages (from pysmiles) (2.5.1)\n",
            "Requirement already satisfied: decorator<5,>=4.3 in /usr/local/lib/python3.7/dist-packages (from networkx~=2.0->pysmiles) (4.4.2)\n",
            "Building wheels for collected packages: pysmiles\n",
            "  Building wheel for pysmiles (setup.py) ... \u001b[?25l\u001b[?25hdone\n",
            "  Created wheel for pysmiles: filename=pysmiles-1.0.1-py2.py3-none-any.whl size=22017 sha256=8b46b3ba7f64c6d3ca9fe86c37cd3f192f8995159dcbf73187c3ba4265431741\n",
            "  Stored in directory: /root/.cache/pip/wheels/2e/ba/9b/b96056ad3f356628ebc98a6da947d9a038f4b550c84316a2e2\n",
            "Successfully built pysmiles\n",
            "Installing collected packages: pbr, pysmiles\n",
            "Successfully installed pbr-5.6.0 pysmiles-1.0.1\n"
          ],
          "name": "stdout"
        }
      ]
    },
    {
      "cell_type": "markdown",
      "metadata": {
        "id": "_6BlThytWemG"
      },
      "source": [
        "# Add molecule graph from reader smiles type in each value from the dataframe\n"
      ]
    },
    {
      "cell_type": "code",
      "metadata": {
        "id": "knyvT7bbW7qZ"
      },
      "source": [
        "import logging\n",
        "from pysmiles import read_smiles\n",
        "import networkx as nx\n",
        "\n",
        "# This is to read_smiles method do not full the\n",
        "# console with unimportant messages\n",
        "logging.getLogger('pysmiles').setLevel(logging.CRITICAL)\n",
        "\n",
        "def add_mol(smiles):\n",
        "  return read_smiles(smiles)\n",
        "\n",
        "def add_mol_nodes(mol):\n",
        "  return mol.nodes(data='element')\n",
        "\n",
        "def add_mol_matrix(mol):\n",
        "  return nx.to_numpy_matrix(mol)\n"
      ],
      "execution_count": null,
      "outputs": []
    },
    {
      "cell_type": "code",
      "metadata": {
        "id": "Fg2E9rrjz9IW"
      },
      "source": [
        "df[\"mol\"] = df.apply(lambda x: add_mol(x.smiles), axis=1)\n",
        "# df[\"mol_nodes\"] = df.apply(lambda x: add_mol_nodes(x.mol), axis=1)\n",
        "# df[\"mol_matrix\"] = df.apply(lambda x: add_mol_matrix(x.mol), axis=1)"
      ],
      "execution_count": null,
      "outputs": []
    },
    {
      "cell_type": "code",
      "metadata": {
        "colab": {
          "base_uri": "https://localhost:8080/",
          "height": 402
        },
        "id": "-5zf2PfjdcKf",
        "outputId": "8ce46b2e-fa0c-460e-bf81-cc23174a1c96"
      },
      "source": [
        "df"
      ],
      "execution_count": null,
      "outputs": [
        {
          "output_type": "execute_result",
          "data": {
            "text/html": [
              "<div>\n",
              "<style scoped>\n",
              "    .dataframe tbody tr th:only-of-type {\n",
              "        vertical-align: middle;\n",
              "    }\n",
              "\n",
              "    .dataframe tbody tr th {\n",
              "        vertical-align: top;\n",
              "    }\n",
              "\n",
              "    .dataframe thead th {\n",
              "        text-align: right;\n",
              "    }\n",
              "</style>\n",
              "<table border=\"1\" class=\"dataframe\">\n",
              "  <thead>\n",
              "    <tr style=\"text-align: right;\">\n",
              "      <th></th>\n",
              "      <th>idx</th>\n",
              "      <th>smiles</th>\n",
              "      <th>mol</th>\n",
              "    </tr>\n",
              "  </thead>\n",
              "  <tbody>\n",
              "    <tr>\n",
              "      <th>0</th>\n",
              "      <td>0</td>\n",
              "      <td>Cc1ccc(cc1)C1C=c2cnccc2=NC1=O</td>\n",
              "      <td>(0, 1, 2, 3, 4, 5, 6, 7, 8, 9, 10, 11, 12, 13,...</td>\n",
              "    </tr>\n",
              "    <tr>\n",
              "      <th>1</th>\n",
              "      <td>1</td>\n",
              "      <td>COc1cc(OC)ccc1C=CN(C(=O)C)C</td>\n",
              "      <td>(0, 1, 2, 3, 4, 5, 6, 7, 8, 9, 10, 11, 12, 13,...</td>\n",
              "    </tr>\n",
              "    <tr>\n",
              "      <th>2</th>\n",
              "      <td>2</td>\n",
              "      <td>C=CCN(C(=O)C)C=Cc1ccccc1C</td>\n",
              "      <td>(0, 1, 2, 3, 4, 5, 6, 7, 8, 9, 10, 11, 12, 13,...</td>\n",
              "    </tr>\n",
              "    <tr>\n",
              "      <th>3</th>\n",
              "      <td>3</td>\n",
              "      <td>C=CCN(C(=O)C)C=Cc1ccccc1F</td>\n",
              "      <td>(0, 1, 2, 3, 4, 5, 6, 7, 8, 9, 10, 11, 12, 13,...</td>\n",
              "    </tr>\n",
              "    <tr>\n",
              "      <th>4</th>\n",
              "      <td>4</td>\n",
              "      <td>C=CCN(C(=O)C)C=Cc1ccccc1Cl</td>\n",
              "      <td>(0, 1, 2, 3, 4, 5, 6, 7, 8, 9, 10, 11, 12, 13,...</td>\n",
              "    </tr>\n",
              "    <tr>\n",
              "      <th>...</th>\n",
              "      <td>...</td>\n",
              "      <td>...</td>\n",
              "      <td>...</td>\n",
              "    </tr>\n",
              "    <tr>\n",
              "      <th>995</th>\n",
              "      <td>995</td>\n",
              "      <td>OC(c1ccccc1)C(=O)CC(C)C</td>\n",
              "      <td>(0, 1, 2, 3, 4, 5, 6, 7, 8, 9, 10, 11, 12, 13)</td>\n",
              "    </tr>\n",
              "    <tr>\n",
              "      <th>996</th>\n",
              "      <td>996</td>\n",
              "      <td>OC(C(OC(C)(C)C)(C#N)C)c1ccccc1</td>\n",
              "      <td>(0, 1, 2, 3, 4, 5, 6, 7, 8, 9, 10, 11, 12, 13,...</td>\n",
              "    </tr>\n",
              "    <tr>\n",
              "      <th>997</th>\n",
              "      <td>997</td>\n",
              "      <td>CCOC(=O)C=CCOCC=C</td>\n",
              "      <td>(0, 1, 2, 3, 4, 5, 6, 7, 8, 9, 10, 11)</td>\n",
              "    </tr>\n",
              "    <tr>\n",
              "      <th>998</th>\n",
              "      <td>998</td>\n",
              "      <td>N#CC=Cc1ccccc1[N+]#[C-]</td>\n",
              "      <td>(0, 1, 2, 3, 4, 5, 6, 7, 8, 9, 10, 11)</td>\n",
              "    </tr>\n",
              "    <tr>\n",
              "      <th>999</th>\n",
              "      <td>999</td>\n",
              "      <td>[C-]#[N+]c1ccccc1C=CC(=O)C</td>\n",
              "      <td>(0, 1, 2, 3, 4, 5, 6, 7, 8, 9, 10, 11, 12)</td>\n",
              "    </tr>\n",
              "  </tbody>\n",
              "</table>\n",
              "<p>1000 rows × 3 columns</p>\n",
              "</div>"
            ],
            "text/plain": [
              "     idx  ...                                                mol\n",
              "0      0  ...  (0, 1, 2, 3, 4, 5, 6, 7, 8, 9, 10, 11, 12, 13,...\n",
              "1      1  ...  (0, 1, 2, 3, 4, 5, 6, 7, 8, 9, 10, 11, 12, 13,...\n",
              "2      2  ...  (0, 1, 2, 3, 4, 5, 6, 7, 8, 9, 10, 11, 12, 13,...\n",
              "3      3  ...  (0, 1, 2, 3, 4, 5, 6, 7, 8, 9, 10, 11, 12, 13,...\n",
              "4      4  ...  (0, 1, 2, 3, 4, 5, 6, 7, 8, 9, 10, 11, 12, 13,...\n",
              "..   ...  ...                                                ...\n",
              "995  995  ...     (0, 1, 2, 3, 4, 5, 6, 7, 8, 9, 10, 11, 12, 13)\n",
              "996  996  ...  (0, 1, 2, 3, 4, 5, 6, 7, 8, 9, 10, 11, 12, 13,...\n",
              "997  997  ...             (0, 1, 2, 3, 4, 5, 6, 7, 8, 9, 10, 11)\n",
              "998  998  ...             (0, 1, 2, 3, 4, 5, 6, 7, 8, 9, 10, 11)\n",
              "999  999  ...         (0, 1, 2, 3, 4, 5, 6, 7, 8, 9, 10, 11, 12)\n",
              "\n",
              "[1000 rows x 3 columns]"
            ]
          },
          "metadata": {
            "tags": []
          },
          "execution_count": 10
        }
      ]
    },
    {
      "cell_type": "markdown",
      "metadata": {
        "id": "pnus-NY9fX1d"
      },
      "source": [
        "# Calculate the Hashimoto grahp"
      ]
    },
    {
      "cell_type": "code",
      "metadata": {
        "id": "xgnRUfSP2mMe"
      },
      "source": [
        "# Matriz de retroceso \n",
        "# https://github.com/psuarezserrato/Coned-backtracking-distance-between-graphs\n",
        "# def fast_hashimoto(graph, ordering='blocks', return_ordering=False):\n"
      ],
      "execution_count": null,
      "outputs": []
    },
    {
      "cell_type": "code",
      "metadata": {
        "colab": {
          "base_uri": "https://localhost:8080/"
        },
        "id": "2V9-yozFd0hf",
        "outputId": "9e41e02d-96be-4834-e0a2-9e24e39d0a8b"
      },
      "source": [
        "!wget https://raw.githubusercontent.com/psuarezserrato/Coned-backtracking-distance-between-graphs/master/sunbeam.py"
      ],
      "execution_count": null,
      "outputs": [
        {
          "output_type": "stream",
          "text": [
            "--2021-04-26 18:28:26--  https://raw.githubusercontent.com/psuarezserrato/Coned-backtracking-distance-between-graphs/master/sunbeam.py\n",
            "Resolving raw.githubusercontent.com (raw.githubusercontent.com)... 185.199.108.133, 185.199.109.133, 185.199.110.133, ...\n",
            "Connecting to raw.githubusercontent.com (raw.githubusercontent.com)|185.199.108.133|:443... connected.\n",
            "HTTP request sent, awaiting response... 200 OK\n",
            "Length: 13876 (14K) [text/plain]\n",
            "Saving to: ‘sunbeam.py’\n",
            "\n",
            "sunbeam.py          100%[===================>]  13.55K  --.-KB/s    in 0s      \n",
            "\n",
            "2021-04-26 18:28:26 (104 MB/s) - ‘sunbeam.py’ saved [13876/13876]\n",
            "\n"
          ],
          "name": "stdout"
        }
      ]
    },
    {
      "cell_type": "code",
      "metadata": {
        "id": "jyr1vL3yeHUO"
      },
      "source": [
        "!python /content/sunbeam.py"
      ],
      "execution_count": null,
      "outputs": []
    },
    {
      "cell_type": "code",
      "metadata": {
        "id": "Irx48IMye0_n"
      },
      "source": [
        "import sunbeam\n",
        "import networkx as nx\n",
        "from pysmiles import read_smiles\n",
        "\n",
        "def calculate_hashimoto_matrix(graph):\n",
        "  hashimoto =  sunbeam.fast_hashimoto(graph, ordering='blocks', return_ordering=False)\n",
        "  # https://docs.scipy.org/doc/scipy/reference/generated/scipy.sparse.csr_matrix.toarray.html\n",
        "  return hashimoto.toarray()\n"
      ],
      "execution_count": null,
      "outputs": []
    },
    {
      "cell_type": "code",
      "metadata": {
        "id": "US-Y_h-Qslyi"
      },
      "source": [
        "df[\"hashimoto_matrix\"] = df.apply(lambda x: calculate_hashimoto_matrix(x.mol), axis=1)"
      ],
      "execution_count": null,
      "outputs": []
    },
    {
      "cell_type": "code",
      "metadata": {
        "colab": {
          "base_uri": "https://localhost:8080/",
          "height": 279
        },
        "id": "Vt8aTCVVssiQ",
        "outputId": "19d609f6-8117-49a8-e9fe-fb8226f83664"
      },
      "source": [
        "df.head(5)"
      ],
      "execution_count": null,
      "outputs": [
        {
          "output_type": "execute_result",
          "data": {
            "text/html": [
              "<div>\n",
              "<style scoped>\n",
              "    .dataframe tbody tr th:only-of-type {\n",
              "        vertical-align: middle;\n",
              "    }\n",
              "\n",
              "    .dataframe tbody tr th {\n",
              "        vertical-align: top;\n",
              "    }\n",
              "\n",
              "    .dataframe thead th {\n",
              "        text-align: right;\n",
              "    }\n",
              "</style>\n",
              "<table border=\"1\" class=\"dataframe\">\n",
              "  <thead>\n",
              "    <tr style=\"text-align: right;\">\n",
              "      <th></th>\n",
              "      <th>idx</th>\n",
              "      <th>smiles</th>\n",
              "      <th>mol</th>\n",
              "      <th>hashimoto_matrix</th>\n",
              "    </tr>\n",
              "  </thead>\n",
              "  <tbody>\n",
              "    <tr>\n",
              "      <th>0</th>\n",
              "      <td>0</td>\n",
              "      <td>Cc1ccc(cc1)C1C=c2cnccc2=NC1=O</td>\n",
              "      <td>(0, 1, 2, 3, 4, 5, 6, 7, 8, 9, 10, 11, 12, 13,...</td>\n",
              "      <td>[[0.0, 1.0, 1.0, 0.0, 0.0, 0.0, 0.0, 0.0, 0.0,...</td>\n",
              "    </tr>\n",
              "    <tr>\n",
              "      <th>1</th>\n",
              "      <td>1</td>\n",
              "      <td>COc1cc(OC)ccc1C=CN(C(=O)C)C</td>\n",
              "      <td>(0, 1, 2, 3, 4, 5, 6, 7, 8, 9, 10, 11, 12, 13,...</td>\n",
              "      <td>[[0.0, 1.0, 0.0, 0.0, 0.0, 0.0, 0.0, 0.0, 0.0,...</td>\n",
              "    </tr>\n",
              "    <tr>\n",
              "      <th>2</th>\n",
              "      <td>2</td>\n",
              "      <td>C=CCN(C(=O)C)C=Cc1ccccc1C</td>\n",
              "      <td>(0, 1, 2, 3, 4, 5, 6, 7, 8, 9, 10, 11, 12, 13,...</td>\n",
              "      <td>[[0.0, 1.0, 0.0, 0.0, 0.0, 0.0, 0.0, 0.0, 0.0,...</td>\n",
              "    </tr>\n",
              "    <tr>\n",
              "      <th>3</th>\n",
              "      <td>3</td>\n",
              "      <td>C=CCN(C(=O)C)C=Cc1ccccc1F</td>\n",
              "      <td>(0, 1, 2, 3, 4, 5, 6, 7, 8, 9, 10, 11, 12, 13,...</td>\n",
              "      <td>[[0.0, 1.0, 0.0, 0.0, 0.0, 0.0, 0.0, 0.0, 0.0,...</td>\n",
              "    </tr>\n",
              "    <tr>\n",
              "      <th>4</th>\n",
              "      <td>4</td>\n",
              "      <td>C=CCN(C(=O)C)C=Cc1ccccc1Cl</td>\n",
              "      <td>(0, 1, 2, 3, 4, 5, 6, 7, 8, 9, 10, 11, 12, 13,...</td>\n",
              "      <td>[[0.0, 1.0, 0.0, 0.0, 0.0, 0.0, 0.0, 0.0, 0.0,...</td>\n",
              "    </tr>\n",
              "  </tbody>\n",
              "</table>\n",
              "</div>"
            ],
            "text/plain": [
              "   idx  ...                                   hashimoto_matrix\n",
              "0    0  ...  [[0.0, 1.0, 1.0, 0.0, 0.0, 0.0, 0.0, 0.0, 0.0,...\n",
              "1    1  ...  [[0.0, 1.0, 0.0, 0.0, 0.0, 0.0, 0.0, 0.0, 0.0,...\n",
              "2    2  ...  [[0.0, 1.0, 0.0, 0.0, 0.0, 0.0, 0.0, 0.0, 0.0,...\n",
              "3    3  ...  [[0.0, 1.0, 0.0, 0.0, 0.0, 0.0, 0.0, 0.0, 0.0,...\n",
              "4    4  ...  [[0.0, 1.0, 0.0, 0.0, 0.0, 0.0, 0.0, 0.0, 0.0,...\n",
              "\n",
              "[5 rows x 4 columns]"
            ]
          },
          "metadata": {
            "tags": []
          },
          "execution_count": 16
        }
      ]
    },
    {
      "cell_type": "markdown",
      "metadata": {
        "id": "AIO9S16Ps9uf"
      },
      "source": [
        "# Gershgorin circle theorem"
      ]
    },
    {
      "cell_type": "code",
      "metadata": {
        "id": "9ERWdHrztCB8"
      },
      "source": [
        "import numpy as np\n",
        "import sympy as sym\n",
        "\n",
        "def circle_theorem(M):\n",
        "    # https://colab.research.google.com/drive/1n6_KT-r0jG8A3DOGqJfn0qrNEKQC1P3R?usp=sharing\n",
        "    x = sym.Symbol('x') \n",
        "    y = sym.Symbol('y')\n",
        "\n",
        "    circles = set()\n",
        "    for i in range(M.shape[0]):\n",
        "        # Selecionamos la fila i con i corriendo\n",
        "        row = M[i: i + 1, :]\n",
        "        row = np.delete(row, i)\n",
        "        radio = np.absolute(row)\n",
        "        radio = np.sum(radio)\n",
        "        circles.add(sym.ConditionSet((x,y), sym.simplify((x - np.real(M[i,i]))**2 + (y - np.imag(M[i,i]))**2) <= radio))\n",
        "    return sym.Union(*(e for e in circles))"
      ],
      "execution_count": null,
      "outputs": []
    },
    {
      "cell_type": "code",
      "metadata": {
        "id": "JN_1xxLAtLaU"
      },
      "source": [
        "df[\"circle_theorem\"] = df.apply(lambda x: circle_theorem(x.hashimoto_matrix), axis=1)"
      ],
      "execution_count": null,
      "outputs": []
    },
    {
      "cell_type": "code",
      "metadata": {
        "colab": {
          "base_uri": "https://localhost:8080/",
          "height": 971
        },
        "id": "E9ROSBxrtbtD",
        "outputId": "f88fae28-0021-4f34-d03f-d75a56f55273"
      },
      "source": [
        "df.head(5)"
      ],
      "execution_count": null,
      "outputs": [
        {
          "output_type": "execute_result",
          "data": {
            "text/html": [
              "<div>\n",
              "<style scoped>\n",
              "    .dataframe tbody tr th:only-of-type {\n",
              "        vertical-align: middle;\n",
              "    }\n",
              "\n",
              "    .dataframe tbody tr th {\n",
              "        vertical-align: top;\n",
              "    }\n",
              "\n",
              "    .dataframe thead th {\n",
              "        text-align: right;\n",
              "    }\n",
              "</style>\n",
              "<table border=\"1\" class=\"dataframe\">\n",
              "  <thead>\n",
              "    <tr style=\"text-align: right;\">\n",
              "      <th></th>\n",
              "      <th>idx</th>\n",
              "      <th>smiles</th>\n",
              "      <th>mol</th>\n",
              "      <th>hashimoto_matrix</th>\n",
              "      <th>circle_theorem</th>\n",
              "    </tr>\n",
              "  </thead>\n",
              "  <tbody>\n",
              "    <tr>\n",
              "      <th>0</th>\n",
              "      <td>0</td>\n",
              "      <td>Cc1ccc(cc1)C1C=c2cnccc2=NC1=O</td>\n",
              "      <td>(0, 1, 2, 3, 4, 5, 6, 7, 8, 9, 10, 11, 12, 13,...</td>\n",
              "      <td>[[0.0, 1.0, 1.0, 0.0, 0.0, 0.0, 0.0, 0.0, 0.0,...</td>\n",
              "      <td>Union(ConditionSet((x, y), x**2 + y**2 &lt;= 0.0)...</td>\n",
              "    </tr>\n",
              "    <tr>\n",
              "      <th>1</th>\n",
              "      <td>1</td>\n",
              "      <td>COc1cc(OC)ccc1C=CN(C(=O)C)C</td>\n",
              "      <td>(0, 1, 2, 3, 4, 5, 6, 7, 8, 9, 10, 11, 12, 13,...</td>\n",
              "      <td>[[0.0, 1.0, 0.0, 0.0, 0.0, 0.0, 0.0, 0.0, 0.0,...</td>\n",
              "      <td>Union(ConditionSet((x, y), x**2 + y**2 &lt;= 0.0)...</td>\n",
              "    </tr>\n",
              "    <tr>\n",
              "      <th>2</th>\n",
              "      <td>2</td>\n",
              "      <td>C=CCN(C(=O)C)C=Cc1ccccc1C</td>\n",
              "      <td>(0, 1, 2, 3, 4, 5, 6, 7, 8, 9, 10, 11, 12, 13,...</td>\n",
              "      <td>[[0.0, 1.0, 0.0, 0.0, 0.0, 0.0, 0.0, 0.0, 0.0,...</td>\n",
              "      <td>Union(ConditionSet((x, y), x**2 + y**2 &lt;= 0.0)...</td>\n",
              "    </tr>\n",
              "    <tr>\n",
              "      <th>3</th>\n",
              "      <td>3</td>\n",
              "      <td>C=CCN(C(=O)C)C=Cc1ccccc1F</td>\n",
              "      <td>(0, 1, 2, 3, 4, 5, 6, 7, 8, 9, 10, 11, 12, 13,...</td>\n",
              "      <td>[[0.0, 1.0, 0.0, 0.0, 0.0, 0.0, 0.0, 0.0, 0.0,...</td>\n",
              "      <td>Union(ConditionSet((x, y), x**2 + y**2 &lt;= 0.0)...</td>\n",
              "    </tr>\n",
              "    <tr>\n",
              "      <th>4</th>\n",
              "      <td>4</td>\n",
              "      <td>C=CCN(C(=O)C)C=Cc1ccccc1Cl</td>\n",
              "      <td>(0, 1, 2, 3, 4, 5, 6, 7, 8, 9, 10, 11, 12, 13,...</td>\n",
              "      <td>[[0.0, 1.0, 0.0, 0.0, 0.0, 0.0, 0.0, 0.0, 0.0,...</td>\n",
              "      <td>Union(ConditionSet((x, y), x**2 + y**2 &lt;= 0.0)...</td>\n",
              "    </tr>\n",
              "  </tbody>\n",
              "</table>\n",
              "</div>"
            ],
            "text/plain": [
              "   idx  ...                                     circle_theorem\n",
              "0    0  ...  Union(ConditionSet((x, y), x**2 + y**2 <= 0.0)...\n",
              "1    1  ...  Union(ConditionSet((x, y), x**2 + y**2 <= 0.0)...\n",
              "2    2  ...  Union(ConditionSet((x, y), x**2 + y**2 <= 0.0)...\n",
              "3    3  ...  Union(ConditionSet((x, y), x**2 + y**2 <= 0.0)...\n",
              "4    4  ...  Union(ConditionSet((x, y), x**2 + y**2 <= 0.0)...\n",
              "\n",
              "[5 rows x 5 columns]"
            ]
          },
          "metadata": {
            "tags": []
          },
          "execution_count": 19
        }
      ]
    },
    {
      "cell_type": "markdown",
      "metadata": {
        "id": "dGOsPKRPfUA7"
      },
      "source": [
        "------------\n"
      ]
    },
    {
      "cell_type": "markdown",
      "metadata": {
        "id": "yGDnC1wpfNgL"
      },
      "source": [
        "# BONUS\n",
        "## PLOT A MOLECULE"
      ]
    },
    {
      "cell_type": "code",
      "metadata": {
        "colab": {
          "base_uri": "https://localhost:8080/",
          "height": 211
        },
        "id": "cSTpdc-m0D_q",
        "outputId": "a0814cd8-ec3b-4641-f332-5d95f08a5e7c"
      },
      "source": [
        "import matplotlib.pyplot as plt\n",
        "# Select a molecule from the data frame\n",
        "mol = df[\"mol\"][0]\n",
        "elements = nx.get_node_attributes(mol, name=\"element\")\n",
        "nx.draw(mol, with_labels=True, labels=elements, pos=nx.spring_layout(mol))\n",
        "plt.gca().set_aspect('equal')"
      ],
      "execution_count": null,
      "outputs": [
        {
          "output_type": "display_data",
          "data": {
            "image/png": "[encoded data removed]",
            "text/plain": [
              "<Figure size 432x288 with 1 Axes>"
            ]
          },
          "metadata": {
            "tags": []
          }
        }
      ]
    },
    {
      "cell_type": "markdown",
      "metadata": {
        "id": "DF4LRV3-brsb"
      },
      "source": [
        "------------\n"
      ]
    }
  ]
}